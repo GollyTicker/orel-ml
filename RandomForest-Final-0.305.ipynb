{
 "cells": [
  {
   "cell_type": "markdown",
   "metadata": {
    "collapsed": false
   },
   "source": [
    "# Random Forest (score ~ 0.305)\n",
    "## MLP2 - Team 0rel\n",
    "### Alessandra Urbinati, Cristina Bozzo, Swaneet Sahoo"
   ]
  },
  {
   "cell_type": "code",
   "execution_count": 1,
   "metadata": {
    "collapsed": true
   },
   "outputs": [],
   "source": [
    "import nibabel as nib\n",
    "import numpy as np\n",
    "from sklearn.svm import SVC\n",
    "import matplotlib.pyplot as plt\n",
    "from math import sqrt\n",
    "from sklearn.ensemble import RandomForestRegressor\n",
    "from mpl_toolkits.mplot3d import Axes3D\n",
    "from math import sqrt,atan2,pi,ceil,acos,sin,cos\n",
    "from sklearn.metrics import log_loss\n",
    "\n",
    "from orelmisc import n_max,n_test_max,testpre,trainpre,saveCSV,y_org,shape_3d_org\n",
    "from preprocess import flatten,flatten_each_sample,loadData,flatten_each_sample,precompute_and_save"
   ]
  },
  {
   "cell_type": "code",
   "execution_count": 2,
   "metadata": {
    "collapsed": false
   },
   "outputs": [],
   "source": [
    "prep_ = lambda i: cap(i) #if i < 0.9 else 1 # round up at 0.8 improves score :)\n",
    "def prep(a):\n",
    "  return map(prep_,a)\n",
    "\n",
    "cap = lambda p: min(1,max(0,p))\n",
    "def pred_to_rgb(p):\n",
    "  p = cap(p)\n",
    "  v = p\n",
    "  return (1-v,v,0.2)\n",
    "\n",
    "x_org = None\n",
    "x_t_org = None\n",
    "xa_org = None\n",
    "d_org = None\n",
    "y = np.array(y_org)\n",
    "y_mean = np.full(n_max,np.mean(y),dtype=np.float64)[:n_test_max]\n",
    "y_t_pred = None\n",
    "yts_pred = None\n",
    "y_t_pp = None\n",
    "prefix=None\n",
    "alpha = 10\n",
    "result = None\n",
    "xa = []\n",
    "x = None\n",
    "x_t = None\n",
    "TO_RADIANS = pi/180"
   ]
  },
  {
   "cell_type": "code",
   "execution_count": 3,
   "metadata": {
    "collapsed": false
   },
   "outputs": [
    {
     "name": "stdout",
     "output_type": "stream",
     "text": [
      "Number of Histograms: 144\n",
      "Size of Histograms: 69\n",
      "Dimensions: ca. 9936\n"
     ]
    }
   ],
   "source": [
    "space = 70 #35 # 35,50,70,100,150\n",
    "bins = np.linspace(1,1700,space)\n",
    "hSize = space-1\n",
    "r_division = 6\n",
    "theta_division = 4\n",
    "phi_division = 6\n",
    "ranges = [1,r_division,theta_division,phi_division]\n",
    "nHists = r_division*theta_division*phi_division\n",
    "\n",
    "name = \"src/\"+str(space)+\"_split_validated\"\n",
    "finalSubOut = \"final_sub.csv\"\n",
    "fname = \"many_hists\"+str(nHists)+\"_space\" + str(space) + (\"_divs_%s_%s_%s.npy\" % (r_division,theta_division,phi_division))\n",
    "fnameSpherical = \"spherical_every2.npy\"\n",
    "fnameMeanHist = \"mean_hist\" + str(space) + \".npy\"\n",
    "fnameMeanHists = \"mean_hists\" + str(space) + \".npy\"\n",
    "\n",
    "xStats = np.load(\"statistics_diff_hist200.npy\")\n",
    "xSpherical = np.load(fnameSpherical)\n",
    "nPercentiles = 20\n",
    "bStat = 7\n",
    "sbins = bins[:-1]+1800/space/2\n",
    "ds = bStat + nPercentiles + nHists*hSize # sum,sum2,sum3,avg,var,mode, numper of percentiles and histograms\n",
    "iHist = bStat + nPercentiles\n",
    "idxHist = lambda i: iHist+i*hSize\n",
    "\n",
    "# radius form 0 to 80\n",
    "# theta from 0 to 180\n",
    "# phi from 0 to 360\n",
    "rMax = 80\n",
    "tMin = 30\n",
    "tMax = 180-tMin\n",
    "\n",
    "print \"Number of Histograms:\",nHists\n",
    "print \"Size of Histograms:\",hSize\n",
    "print \"Dimensions: ca.\",nHists*hSize"
   ]
  },
  {
   "cell_type": "code",
   "execution_count": 4,
   "metadata": {
    "collapsed": false
   },
   "outputs": [],
   "source": [
    "def spherical2cart(r,theta,phi):\n",
    "  return (r*sin(theta)*cos(phi),r*sin(theta)*sin(phi),r*cos(theta))\n",
    "\n",
    "fromto = lambda di,sph: zip(np.round(np.linspace(0,sph.shape[di],ranges[di]+1)),np.round(np.linspace(0,sph.shape[di],ranges[di]+1))[1:])\n",
    "\n",
    "# the code commented out in \"loadAndPreprocess()\" was used to transform the images into spherical coordinates\n",
    "# We didn't supply the .npy file for the spherical coordinates, since it takes ~1h to compute and is a few GBs large.\n",
    "# since we don't need it for the prediction itself anymore, we just provide the features data file. (many_hists144_space70_divs_6_4_6.npy)\n",
    "def loadAndPreprocess():\n",
    "    global d_org,x,x_t,xa,x_org,x_t_org,xa_org,xSpherical\n",
    "    \n",
    "    xa = np.zeros((n_max+n_test_max,ds))\n",
    "    #xSpherical = np.zeros((n_max+n_test_max,rMax/2+1,(tMax-tMin)/2+1,360/2+1))\n",
    "    \n",
    "    i = 0\n",
    "    #print \"===== Calculate spherical coordiantes ====\"\n",
    "    \n",
    "    while i < n_max+n_test_max:\n",
    "      if i % 6 == 0:\n",
    "        print \"  i = %s ... %.1f%%\" % (i,float(i)/(n_max+n_test_max)*100)\n",
    "      \n",
    "      n_i,pre,t_str = (n_max,\"set_train/\",\"train\") if i < n_max else (n_test_max,\"set_test/\",\"test\")\n",
    "      filename = \"%s%s_%s.nii\" % (pre,t_str,i%n_max+1)\n",
    "      Xtotal,Ytotal,Ztotal = (176,208,176)\n",
    "      data = nib.load(filename).get_data().reshape((Xtotal,Ytotal,Ztotal))\n",
    "      \n",
    "      \"\"\"Calculate zoomed spherical representation, needs 3 seconds\n",
    "      for r in np.linspace(0,rMax,rMax/2+1):\n",
    "        for theta in np.linspace(tMin,tMax,(tMax-tMin)/2+1):\n",
    "          for phi in np.linspace(0,360,360/2+1):\n",
    "            x,y,z = spherical2cart(r,theta*TO_RADIANS,phi*TO_RADIANS)\n",
    "            x = x + Xtotal/2\n",
    "            y = y + Ytotal/2\n",
    "            z = z + Ztotal/2\n",
    "            if 0 <= x < Xtotal and 0 <= y < Ytotal and 0 <= z < Ztotal:\n",
    "              xSpherical[i,r/2,(theta-tMin)/2,phi/2] = data[int(x),int(y),int(z)]\"\"\"\n",
    "\n",
    "      # calculate histograms: 8*4*8 = 256 histograms\n",
    "      hCount = 0\n",
    "      for l,u in fromto(1,xSpherical):\n",
    "        l0,u0=(int(l),int(u))\n",
    "        for l,u in fromto(2,xSpherical):\n",
    "          l1,u1=(int(l),int(u))\n",
    "          for l,u in fromto(3,xSpherical):\n",
    "            l2,u2=(int(l),int(u))\n",
    "            cut = xSpherical[i,l0:u0,l1:u1,l2:u2]\n",
    "            h=np.histogram(cut.ravel(),bins=bins)[0]\n",
    "            xa[i,(iHist+(hCount*hSize)):(iHist+(hCount+1)*hSize)] = h\n",
    "            hCount = hCount + 1\n",
    "      \n",
    "      xa[i,:iHist] = xStats[i,:iHist] # copy statistics from precomputation\n",
    "      i = i+1\n",
    "    \n",
    "    np.save(fname,xa)\n",
    "    print \"======= Saved data matrix xa into %s =========\" % fname\n",
    "    \n",
    "    #np.save(fnameSpherical,xSpherical)\n",
    "    #print \"======= Saved spherical coordinates into %s =========\" % fnameSpherical\n",
    "\n",
    "if False:\n",
    "  loadAndPreprocess()\n",
    "else:\n",
    "  xa = np.load(fname)\n",
    "  x,x_t = (xa[0:n_max,:],xa[n_max:,:])"
   ]
  },
  {
   "cell_type": "code",
   "execution_count": 5,
   "metadata": {
    "collapsed": false
   },
   "outputs": [
    {
     "name": "stdout",
     "output_type": "stream",
     "text": [
      "Indices for total data: \n",
      "  healthy 211 :  [ 5  6  7  9 10 11 12 14 18 19] ...\n",
      "  sick 67 :  [27 30 36 37 48 51 54 55 58 60] ...\n",
      "\n",
      "Indices for splitted data: \n",
      "  healthy training  147 :  [123 198  98 149  53  22   5 208 228  63] ...\n",
      "  healthy test  64 :  [111  42 200 271 171 119   4  62  23  76] ...\n",
      "  sick training  46 :  [161 121  37  77 225 255 242 206 229 261] ...\n",
      "  sick test  21 :  [158  15 181 197 143 249 177 241 194 167] ...\n",
      "\n",
      "Splitted data into test and validation data\n"
     ]
    }
   ],
   "source": [
    "from sklearn.model_selection import train_test_split\n",
    "# xa. all data\n",
    "# x. public training data\n",
    "# y. public training targets\n",
    "# x_t public to be predicted data\n",
    "\n",
    "# xtr. training data\n",
    "# ytr. training targets\n",
    "# xts. validation data\n",
    "# yts. validation targets\n",
    "\n",
    "# indices for splitting\n",
    "ones = np.array(filter(lambda i: y[i]==1,range(0,n_max)))\n",
    "zeros = np.array(filter(lambda i: y[i]==0,range(0,n_max)))\n",
    "# split the indices\n",
    "onestr,onests,_,_ = train_test_split(ones,ones*0,test_size=0.3,random_state=1)\n",
    "zerostr,zerosts,_,_ = train_test_split(zeros,zeros*0,test_size=0.3,random_state=1)\n",
    "\n",
    "# plot the data. a few random states have been tried to to make sure all splits are balanced enough.\n",
    "print \"Indices for total data: \"\n",
    "print \"  healthy\",len(ones),\": \",ones[5:15],\"...\"\n",
    "print \"  sick\",len(zeros),\": \",zeros[5:15],\"...\\n\"\n",
    "\n",
    "print \"Indices for splitted data: \"\n",
    "print \"  healthy training \",len(onestr),\": \",onestr[5:15],\"...\"\n",
    "print \"  healthy test \",len(onests),\": \",onests[5:15],\"...\"\n",
    "print \"  sick training \",len(zerostr),\": \",zerostr[5:15],\"...\"\n",
    "print \"  sick test \",len(zerosts),\": \",zerosts[5:15],\"...\"\n",
    "\n",
    "xtr = np.vstack((x[onestr],x[zerostr]))\n",
    "xts = np.vstack((x[onests],x[zerosts]))\n",
    "ytr = np.hstack((y[onestr],y[zerostr]))\n",
    "yts = np.hstack((y[onests],y[zerosts]))\n",
    "\n",
    "print \"\\nSplitted data into test and validation data\""
   ]
  },
  {
   "cell_type": "code",
   "execution_count": 6,
   "metadata": {
    "collapsed": false
   },
   "outputs": [],
   "source": [
    "def randomForest(n_est,f,msp,max_depth,histMin,histMax):\n",
    "  global y_t_pred,yts_pred,result,y_t_pp\n",
    "  prefix = \"%s_RandomForest_histMin%s_histMax%s_n%s_feats%s_msp%s_max_depth%s\"%(name,histMin,histMax,n_est,f,msp,max_depth)\n",
    "  print \"Prediction with %s\" % prefix\n",
    "  model = RandomForestRegressor(n_est,max_features=f,min_samples_split=msp,max_depth=max_depth,random_state=1)\n",
    "  xtr1 = xtr[:,idxHist(histMin):idxHist(histMax)] # use all data\n",
    "  xts1 = xts[:,idxHist(histMin):idxHist(histMax)] # use all data\n",
    "  x_t1 = x_t[:,idxHist(histMin):idxHist(histMax)]\n",
    "  yts_pred = model.fit(xtr1,ytr).predict(xts1)\n",
    "  y_t_pred = model.predict(x_t1)\n",
    "  \n",
    "  y_t_pp = prep(y_t_pred)\n",
    "  yts_pp = prep(yts_pred)\n",
    "  ytr_pp = prep(model.predict(xtr1))\n",
    "  ltr = log_loss(ytr,ytr_pp)\n",
    "  lts = log_loss(yts,yts_pp)\n",
    "  ltm = log_loss(yts,y_mean[:len(yts)])\n",
    "  print(\"\\n\")\n",
    "  print(\"============================    Log-Loss train           ltr = %.3f ==========\"%ltr)\n",
    "  print(\"============================    Log-Loss test            lts = %.3f ==========\"%lts)\n",
    "  print(\"============================    Log-Loss mean prediciton ltm = %.3f ==========\\n\\n\"%ltm)\n",
    "  trCorrect = len(map(lambda x:x[0]-x[1],filter(lambda x:x[0]!=x[1],zip(ytr,ytr_pp))))\n",
    "  tsCorrect = len(map(lambda x:x[0]-x[1],filter(lambda x:x[0]!=x[1],zip(yts,yts_pp))))\n",
    "  print \"Predictions training: %s correct / %s incorrect\" %(trCorrect,len(xtr)-trCorrect)\n",
    "  print \"Predictions validation: %s correct / %s incorrect\" %(tsCorrect,len(xts)-tsCorrect)\n",
    "  print \"Score: \" % model.score(xts1,yts)\n",
    "  prefix = \"%s_expected_score%.3f\"%(prefix,lts)\n",
    "  return prefix,model"
   ]
  },
  {
   "cell_type": "code",
   "execution_count": 20,
   "metadata": {
    "collapsed": false
   },
   "outputs": [],
   "source": [
    "def doStuff(n_est=400,f=0.15,msp=10,max_depth=3,hmin=0,hmax=40):\n",
    "  global prefix,result\n",
    "  \n",
    "  prefix,model = randomForest(n_est=n_est,f=f,msp=msp,max_depth=max_depth,histMin=hmin,histMax=hmax)\n",
    "  \n",
    "  savePrediction()\n",
    "  \n",
    "  visualize(y,y_t_pp,prefix)\n",
    "  \n",
    "  print \"Variables available in 'result'\"\n",
    "  result = (x,y,x_t,y_t_pred,y_t_pp,model)\n",
    "\n",
    "def visualize(y,y_t_pp,prefix):\n",
    "  plt.clf()\n",
    "  plt.plot(np.array(y_t_pp),\"bo\")\n",
    "  plt.savefig(prefix + \"_predictions.png\")\n",
    "  plt.show()\n",
    "  plt.clf()\n",
    "  plt.title(\"PREDICTIONS sorted (0=unhealty, 1=healthy)\")\n",
    "  plt.plot(sorted(y_t_pp),\"bo\")\n",
    "  plt.savefig(prefix + \"_plot.png\")\n",
    "  print(\"Saved age diagrams as %s\"%(prefix+\"*.png\"))\n",
    "  plt.show()\n",
    "\n",
    "def savePrediction():\n",
    "    savedFilename = saveCSV(map(cap,y_t_pp),prefix)\n",
    "    print(\"Saved predictions into %s\" % savedFilename)"
   ]
  },
  {
   "cell_type": "code",
   "execution_count": 21,
   "metadata": {
    "collapsed": false,
    "scrolled": false
   },
   "outputs": [
    {
     "name": "stdout",
     "output_type": "stream",
     "text": [
      "Prediction with output/70_split_validated_RandomForest_histMin0_histMax144_n500_feats0.2_msp10_max_depth2\n",
      "\n",
      "\n",
      "============================    Log-Loss train           ltr = 0.157 ==========\n",
      "============================    Log-Loss test            lts = 0.303 ==========\n",
      "============================    Log-Loss mean prediciton ltm = 0.559 ==========\n",
      "\n",
      "\n",
      "Predictions training: 193 correct / 0 incorrect\n",
      "Predictions validation: 85 correct / 0 incorrect\n",
      "Score: \n",
      "Saved predictions into output/70_split_validated_RandomForest_histMin0_histMax144_n500_feats0.2_msp10_max_depth2_expected_score0.303.csv\n"
     ]
    },
    {
     "data": {
      "image/png": "[encoded data removed]",
      "text/plain": [
       "<matplotlib.figure.Figure at 0x7efda4dfa110>"
      ]
     },
     "metadata": {},
     "output_type": "display_data"
    },
    {
     "name": "stdout",
     "output_type": "stream",
     "text": [
      "Saved age diagrams as output/70_split_validated_RandomForest_histMin0_histMax144_n500_feats0.2_msp10_max_depth2_expected_score0.303*.png\n"
     ]
    },
    {
     "data": {
      "image/png": "[encoded data removed]",
      "text/plain": [
       "<matplotlib.figure.Figure at 0x7efda4ee86d0>"
      ]
     },
     "metadata": {},
     "output_type": "display_data"
    },
    {
     "name": "stdout",
     "output_type": "stream",
     "text": [
      "Variables available in 'result'\n"
     ]
    }
   ],
   "source": [
    "doStuff(n_est=500,f=0.2,msp=10,max_depth=2,hmin=0,hmax=nHists)"
   ]
  }
 ],
 "metadata": {
  "kernelspec": {
   "display_name": "Python 2",
   "language": "python",
   "name": "python2"
  },
  "language_info": {
   "codemirror_mode": {
    "name": "ipython",
    "version": 2
   },
   "file_extension": ".py",
   "mimetype": "text/x-python",
   "name": "python",
   "nbconvert_exporter": "python",
   "pygments_lexer": "ipython2",
   "version": "2.7.12"
  }
 },
 "nbformat": 4,
 "nbformat_minor": 1
}
