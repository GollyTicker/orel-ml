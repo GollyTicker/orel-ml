{
 "cells": [
  {
   "cell_type": "code",
   "execution_count": 1,
   "metadata": {
    "collapsed": false
   },
   "outputs": [],
   "source": [
    "import nibabel as nib\n",
    "import numpy as np\n",
    "from sklearn.linear_model import Lasso,LassoCV,LinearRegression,Ridge\n",
    "from sklearn.decomposition import TruncatedSVD\n",
    "from sklearn.gaussian_process import GaussianProcessRegressor\n",
    "import matplotlib.pyplot as plt\n",
    "from scipy.ndimage.interpolation import zoom\n",
    "\n",
    "from orelmisc import n_max,n_test_max,testpre,trainpre,saveCSV,y_org,shape_3d_org\n",
    "from preprocess import flatten,flatten_each_sample,loadData,flatten_each_sample,precompute_and_save"
   ]
  },
  {
   "cell_type": "code",
   "execution_count": 2,
   "metadata": {
    "collapsed": true
   },
   "outputs": [],
   "source": [
    "prep = lambda i: int(i)\n",
    "x_org = None\n",
    "x_t_org = None\n",
    "xa_org = None\n",
    "d_org = None\n",
    "y = y_org\n",
    "y_t_pred = None\n",
    "y_t_pp = None\n",
    "prefix=None\n",
    "alpha = 0\n",
    "result = None\n",
    "xa = []\n",
    "x = None\n",
    "x_t = None"
   ]
  },
  {
   "cell_type": "code",
   "execution_count": 3,
   "metadata": {
    "collapsed": false
   },
   "outputs": [],
   "source": [
    "name = \"PureLassoStatDataHist_Demo\"\n",
    "fname = \"mean_std_hist120_scale1.npy\"\n",
    "\n",
    "xa = np.load(fname)\n",
    "x = xa[0:n_max,:]\n",
    "x_t = xa[n_max:,:]"
   ]
  },
  {
   "cell_type": "code",
   "execution_count": 4,
   "metadata": {
    "collapsed": false
   },
   "outputs": [],
   "source": [
    "def myloop(a):\n",
    "    return (a,a*a,a*a*a)\n",
    "\n",
    "myloopU = np.frompyfunc(myloop,1,3,dtype=np.float64)\n",
    "\n",
    "def loadAndPreprocess():\n",
    "    global d_org,x,x_t,xa,x_org,x_t_org,xa_org\n",
    "    d_org = 6443008\n",
    "    space = 120\n",
    "    bins = np.linspace(250,2600,space)\n",
    "    xa = np.zeros((n_max+n_test_max,5+space-1))\n",
    "    \n",
    "    \"\"\"\n",
    "    => This wassed to preprocess the data.\n",
    "    The sum of the data to the powers 1,2 and 3 were taken. Mean and Var was calculated\n",
    "    and a histogram of all voxel-values was created.\n",
    "    i = 0\n",
    "    while i < n_max+n_test_max:\n",
    "      if i % 5 == 0:\n",
    "        print \"Doing i = %s ...\" % i\n",
    "      \n",
    "      n_i,pre,t_str = (n_max,\"set_train/\",\"train\") if i < n_max else (n_test_max,\"set_test/\",\"test\")\n",
    "      filename = \"%s%s_%s.nii\" % (pre,t_str,i%n_max+1)\n",
    "      data = nib.load(filename).get_data()\n",
    "      #data=xa_org[i]\n",
    "      sum = 0.0\n",
    "      sum2 = 0.0\n",
    "      sum3 = 0.0\n",
    "      avg = 0.0\n",
    "      var = 0.0\n",
    "      data = data.ravel()\n",
    "      res = myloopU(data)\n",
    "      sum = np.sum(res[0])\n",
    "      sum2 = np.sum(res[1])\n",
    "      sum3 = np.sum(res[2])\n",
    "      avg = sum / float(d_org)\n",
    "      var = sum2 - avg*avg\n",
    "      xa[i,:5] = [sum,sum2,sum3,avg,var]\n",
    "      xa[i,5:] = np.histogram(data,bins=bins)[0]\n",
    "      i = i+1\"\"\"\n",
    "    x = xa[0:n_max]\n",
    "    x_t=xa[n_max:]\n",
    "\n",
    "## SCHLUSSFOLGERUNG: brauche ein isschen mehr sachen als nur diese momente und summen.\n",
    "# vielleicht ein grobes histogram?\n",
    "# pures Lasso und SVD+Lasso waren am besten... mit RSS 155...\n",
    "\n",
    "## SCLUSSFOLGERUNG 2:\n",
    "# Pures Lasso mit alpha = 750 war gut. RSS 84 ..\n",
    "# SVD auf das Histogram bringt keinen Mehrwert...\n",
    "# Das Ergebnis wrde allein durch die Momente und Statistischen Werte erreicht!!\n",
    "# [sum,sum2,sum2,avg,var]\n",
    "\n",
    "# SCHLUSSFOLGERUNG 3:\n",
    "# Pures Lasso auf den statistischen daten und dem histogram. Mit alpha = 870 wurde bis zu RSS 77 erreicht!\n",
    "# wir sind damit unter der öffentlichen Schranke von 80 angelangt!"
   ]
  },
  {
   "cell_type": "code",
   "execution_count": 5,
   "metadata": {
    "collapsed": false,
    "scrolled": false
   },
   "outputs": [],
   "source": [
    "# print y\n",
    "# loadAndPreprocess() # was used to"
   ]
  },
  {
   "cell_type": "code",
   "execution_count": 6,
   "metadata": {
    "collapsed": false
   },
   "outputs": [],
   "source": [
    "def makeLassoPrediction(al):\n",
    "  global y_t_pred,result,alpha\n",
    "  alpha = al\n",
    "  print \"Prediction with alpha = %s\" % alpha\n",
    "  prefix = \"%s_LassoPure_alpha%s_FULL\"%(name,alpha)\n",
    "  model = Lasso(alpha=alpha)\n",
    "  x1 = x # use all data\n",
    "  x_t1 = x_t # use all data\n",
    "  y_t_pred = model.fit(x1,y).predict(x_t1)\n",
    "  r = model.score(x1,y)\n",
    "  print(\"score r = %s\"%r)\n",
    "  print \"Intercept: %s\" % model.intercept_\n",
    "  print \"Coefficients: %s...\" % model.coef_[:5]\n",
    "  print \"Abs-Val largest coefficients: %s...\" % (sorted(enumerate(model.coef_),key=lambda x:abs(x[1]))[:5])\n",
    "  plt.clf()\n",
    "  bla = sorted(model.coef_)\n",
    "  bla.reverse()\n",
    "  plt.plot(bla,\"ro\",label=\"coefficients\")\n",
    "  plt.show()\n",
    "  return prefix\n"
   ]
  },
  {
   "cell_type": "code",
   "execution_count": 7,
   "metadata": {
    "collapsed": false
   },
   "outputs": [],
   "source": [
    "def doStuff(al=15,comps=n_max-1):\n",
    "  global prefix,result\n",
    "  #loadAndPreprocess()\n",
    "  \n",
    "  prefix = makeLassoPrediction(al=al)\n",
    "  #prefix = makeSVDLassoPrediction(al=al,comps=comps)\n",
    "  #prefix = makeLassoCVPrediction(cv=3)\n",
    "  #prefix = makeLinearRegression()\n",
    "  #prefix = makeRidgePrediction(al=al)\n",
    "  #prefix = makeGaussianProcess()\n",
    "  \n",
    "  y_t_pp = savePrediction()\n",
    "  \n",
    "  visualize(y,y_t_pp,prefix)\n",
    "  \n",
    "  print \" ========= x ========== \\n%s\\n\" % x\n",
    "  print \" ========= y_t_pp ========== \\n%s\\n\" % y_t_pp\n",
    "  \n",
    "  # retuns a colleciton of stuff to return\n",
    "  print \"Variables available in 'result'\"\n",
    "  result = (x,y,x_t,y_t_pred,y_t_pp)\n",
    "\n",
    "def visualize(y,y_t_pp,prefix):\n",
    "  \"\"\" Step 5: make histogram plot of age \"\"\"\n",
    "  # (because no visualization for flat data matrix...)\n",
    "  plt.hist(y,color=\"black\",rwidth=0.7)\n",
    "  #plt.hist(y_pred,color=\"darkgreen\",rwidth=0.5)\n",
    "  plt.hist(y_t_pp,color=\"darkblue\",rwidth=0.5)\n",
    "  plt.legend([\"ages given for X\",\n",
    "    #\"ages predicted for X\",\n",
    "    \"ages predicted for X_t\"])\n",
    "  plt.savefig(prefix + \"_histogram_ages.png\")\n",
    "  plt.show()\n",
    "  plt.clf()\n",
    "  plt.clf()\n",
    "  plt.plot(np.sort(y),\"bo\")\n",
    "  plt.savefig(prefix + \"_sorted_ages.png\")\n",
    "  print(\"Saved age diagram in %s\"%(prefix+\"<...>.png\"))\n",
    "  plt.show()\n",
    "\n",
    "def savePrediction():\n",
    "    global y_t_pp\n",
    "    y_t_pp = [prep(i) for i in y_t_pred]\n",
    "    savedFilename = saveCSV(y_t_pp,prefix)\n",
    "    print(\"Saved predictions into %s\" % savedFilename)\n",
    "    return y_t_pp"
   ]
  },
  {
   "cell_type": "code",
   "execution_count": 8,
   "metadata": {
    "collapsed": false
   },
   "outputs": [
    {
     "name": "stdout",
     "output_type": "stream",
     "text": [
      "Prediction with alpha = 870\n",
      "score r = 0.89938636842\n",
      "Intercept: 398.287076302\n",
      "Coefficients: [ -2.45856605e-07  -3.21041589e-11  -7.98242939e-14  -0.00000000e+00\n",
      "   1.86655520e-10]...\n",
      "Abs-Val largest coefficients: [(3, -0.0), (5, 0.0), (7, 0.0), (8, 0.0), (9, 0.0)]...\n"
     ]
    },
    {
     "name": "stderr",
     "output_type": "stream",
     "text": [
      "/usr/lib64/python2.7/site-packages/sklearn/linear_model/coordinate_descent.py:479: ConvergenceWarning: Objective did not converge. You might want to increase the number of iterations. Fitting data with very small alpha may cause precision problems.\n",
      "  ConvergenceWarning)\n"
     ]
    },
    {
     "data": {
      "image/png": "[encoded data removed]",
      "text/plain": [
       "<matplotlib.figure.Figure at 0x7f9b1679d5d0>"
      ]
     },
     "metadata": {},
     "output_type": "display_data"
    },
    {
     "name": "stdout",
     "output_type": "stream",
     "text": [
      "Saved predictions into PureLassoStatDataHist_Demo_LassoPure_alpha870_FULL.csv\n"
     ]
    },
    {
     "data": {
      "image/png": "[encoded data removed]",
      "text/plain": [
       "<matplotlib.figure.Figure at 0x7f9adee09e10>"
      ]
     },
     "metadata": {},
     "output_type": "display_data"
    },
    {
     "name": "stdout",
     "output_type": "stream",
     "text": [
      "Saved age diagram in PureLassoStatDataHist_Demo_LassoPure_alpha870_FULL<...>.png\n"
     ]
    },
    {
     "data": {
      "image/png": "[encoded data removed]",
      "text/plain": [
       "<matplotlib.figure.Figure at 0x7f9adee94e10>"
      ]
     },
     "metadata": {},
     "output_type": "display_data"
    },
    {
     "name": "stdout",
     "output_type": "stream",
     "text": [
      " ========= x ========== \n",
      "[[  1.50725930e+09   1.51216940e+12   1.64032931e+15 ...,   2.00000000e+00\n",
      "    3.00000000e+00   1.00000000e+00]\n",
      " [  1.51397922e+09   1.54599576e+12   1.71971056e+15 ...,   3.00000000e+00\n",
      "    0.00000000e+00   2.00000000e+00]\n",
      " [  1.52006085e+09   1.57387665e+12   1.76660383e+15 ...,   5.00000000e+00\n",
      "    6.00000000e+00   1.00000000e+00]\n",
      " ..., \n",
      " [  1.52169988e+09   1.54359292e+12   1.68726157e+15 ...,   7.00000000e+00\n",
      "    5.00000000e+00   5.00000000e+00]\n",
      " [  1.52123657e+09   1.56384761e+12   1.75263246e+15 ...,   9.00000000e+00\n",
      "    5.00000000e+00   8.00000000e+00]\n",
      " [  1.53099490e+09   1.57102397e+12   1.74253079e+15 ...,   1.20000000e+01\n",
      "    9.00000000e+00   1.30000000e+01]]\n",
      "\n",
      " ========= y_t_pp ========== \n",
      "[60, 70, 50, 74, 70, 72, 52, 54, 62, 53, 29, 56, 61, 39, 31, 63, 26, 68, 89, 81, 85, 32, 70, 87, 65, 49, 72, 16, 27, 34, 67, 43, 10, 26, 24, 61, 80, 87, 62, 85, 38, 66, 81, 33, 60, 55, 43, 34, 26, 69, 23, 79, 18, 49, 28, 83, 71, 75, 17, 50, 60, 74, 44, 56, 14, 35, 25, 32, 78, 71, 81, 73, 7, 14, 75, 70, 50, 55, 57, 34, 67, 78, 80, 36, 35, 84, 16, 46, 34, 76, 27, 64, 47, 25, 63, 82, 65, 74, 61, 52, 56, 42, 46, 78, 23, 35, 83, 33, 25, 61, 32, 31, 10, 70, 86, 34, 68, 68, 40, 22, 32, 23, 37, 35, 69, 29, 41, 47, 34, 82, 11, 41, 18, 25, 20, 11, 90, 81]\n",
      "\n",
      "Variables available in 'result'\n"
     ]
    }
   ],
   "source": [
    "doStuff(al=870)"
   ]
  },
  {
   "cell_type": "code",
   "execution_count": 10,
   "metadata": {
    "collapsed": false
   },
   "outputs": [
    {
     "data": {
      "text/plain": [
       "(278, 124)"
      ]
     },
     "execution_count": 10,
     "metadata": {},
     "output_type": "execute_result"
    }
   ],
   "source": [
    "x.shape"
   ]
  },
  {
   "cell_type": "code",
   "execution_count": null,
   "metadata": {
    "collapsed": true
   },
   "outputs": [],
   "source": []
  }
 ],
 "metadata": {
  "kernelspec": {
   "display_name": "Python 2",
   "language": "python",
   "name": "python2"
  },
  "language_info": {
   "codemirror_mode": {
    "name": "ipython",
    "version": 2
   },
   "file_extension": ".py",
   "mimetype": "text/x-python",
   "name": "python",
   "nbconvert_exporter": "python",
   "pygments_lexer": "ipython2",
   "version": "2.7.12"
  }
 },
 "nbformat": 4,
 "nbformat_minor": 1
}
